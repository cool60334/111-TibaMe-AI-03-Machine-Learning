{
  "nbformat": 4,
  "nbformat_minor": 0,
  "metadata": {
    "colab": {
      "provenance": [],
      "authorship_tag": "ABX9TyMS9awWG369SGV1HReTRgat",
      "include_colab_link": true
    },
    "kernelspec": {
      "name": "python3",
      "display_name": "Python 3"
    },
    "language_info": {
      "name": "python"
    }
  },
  "cells": [
    {
      "cell_type": "markdown",
      "metadata": {
        "id": "view-in-github",
        "colab_type": "text"
      },
      "source": [
        "<a href=\"https://colab.research.google.com/github/cool60334/111-TibaMe-AI-03-Machine-Learning/blob/main/ML_Naive_Bayes_poem.ipynb\" target=\"_parent\"><img src=\"https://colab.research.google.com/assets/colab-badge.svg\" alt=\"Open In Colab\"/></a>"
      ]
    },
    {
      "cell_type": "markdown",
      "source": [
        "# 先加入poem_test.csv，poem_train.csv兩個檔案"
      ],
      "metadata": {
        "id": "bxT2u9U_S7Nj"
      }
    },
    {
      "cell_type": "code",
      "source": [
        "!pip install jieba"
      ],
      "metadata": {
        "colab": {
          "base_uri": "https://localhost:8080/"
        },
        "id": "lqX8UWhqUTwm",
        "outputId": "e36f9257-a6a4-438d-c445-8a74dfb6c613"
      },
      "execution_count": 1,
      "outputs": [
        {
          "output_type": "stream",
          "name": "stdout",
          "text": [
            "Looking in indexes: https://pypi.org/simple, https://us-python.pkg.dev/colab-wheels/public/simple/\n",
            "Requirement already satisfied: jieba in /usr/local/lib/python3.8/dist-packages (0.42.1)\n"
          ]
        }
      ]
    },
    {
      "cell_type": "code",
      "execution_count": 2,
      "metadata": {
        "id": "idHZF4k7SMi2"
      },
      "outputs": [],
      "source": [
        "import pandas as pd"
      ]
    },
    {
      "cell_type": "code",
      "source": [
        "import jieba"
      ],
      "metadata": {
        "id": "9i_JgsNkVSHW"
      },
      "execution_count": 3,
      "outputs": []
    },
    {
      "cell_type": "code",
      "source": [
        "traindf = pd.read_csv(\"poem_train.csv\", encoding = \"utf-8\")\n",
        "# traindf"
      ],
      "metadata": {
        "id": "nQKRhjLvTtch"
      },
      "execution_count": null,
      "outputs": []
    },
    {
      "cell_type": "code",
      "source": [
        "testdf = pd.read_csv(\"poem_test.csv\", encoding = \"utf-8\")\n",
        "# testdf"
      ],
      "metadata": {
        "id": "DWdswJ-BT532"
      },
      "execution_count": null,
      "outputs": []
    },
    {
      "cell_type": "code",
      "source": [
        "def poem(s):\n",
        "  s = s.replace(\"\\r\", \"\").replace(\"\\n\", \"\")  # 執行replace之後還是字串，可以再做replace\n",
        "  return \" \".join(jieba.cut(s))  # 用jieba.cut將字串分詞，並在字串間加入空白\n",
        "\n",
        "traindf[\"內容\"] = traindf[\"內容\"].apply(poem)  # apply表示對每一格都做一次流程\n",
        "# traindf"
      ],
      "metadata": {
        "id": "uAOgHwuNUBCG"
      },
      "execution_count": null,
      "outputs": []
    },
    {
      "cell_type": "code",
      "source": [
        "testdf[\"內容\"] = testdf[\"內容\"].apply(poem)  # 對每一格都做一次流程\n",
        "# testdf"
      ],
      "metadata": {
        "id": "9dfkcbFYX_eE"
      },
      "execution_count": null,
      "outputs": []
    },
    {
      "cell_type": "code",
      "source": [
        "# sklearn的答案一定要以0,1,2表示\n",
        "\n",
        "trans = {\"李白\":0, \"杜甫\":1, \"白居易\":2}\n",
        "traindf[\"作者\"] = traindf[\"作者\"].replace(trans)\n",
        "# traindf"
      ],
      "metadata": {
        "id": "ool7fsYuYUTp"
      },
      "execution_count": 19,
      "outputs": []
    },
    {
      "cell_type": "code",
      "source": [
        "testdf[\"作者\"] = testdf[\"作者\"].replace(trans)\n",
        "# testdf"
      ],
      "metadata": {
        "id": "kr9Z5E96GJGA"
      },
      "execution_count": null,
      "outputs": []
    },
    {
      "cell_type": "code",
      "source": [
        "# 將文字特徵轉化為每個詞出現的次數\n",
        "\n",
        "from sklearn.feature_extraction.text import CountVectorizer\n",
        "vec = CountVectorizer()"
      ],
      "metadata": {
        "id": "RZZomHHaGOVn"
      },
      "execution_count": 11,
      "outputs": []
    },
    {
      "cell_type": "code",
      "source": [
        "trainvec = vec.fit_transform(traindf[\"內容\"])\n",
        "# print(trainvec)  # 印出訓練用資料內 (第n首詩, 第m個詞的欄位編號) 及 出現次數"
      ],
      "metadata": {
        "id": "s7ZAlvbvKtV7"
      },
      "execution_count": null,
      "outputs": []
    },
    {
      "cell_type": "code",
      "source": [
        "# print(vec.vocabulary_)  # 印出字典 {詞: 欄位編號}"
      ],
      "metadata": {
        "id": "1c1XhQeuK1dM"
      },
      "execution_count": null,
      "outputs": []
    },
    {
      "cell_type": "code",
      "source": [
        "testvec = vec.transform(testdf[\"內容\"])  # 測試用資料不需要fit\n",
        "# print(testvec)  # 印出測試用資料內 (第n首詩, 第m個詞的欄位編號) 及 出現次數"
      ],
      "metadata": {
        "id": "zaw_thLZLMkH"
      },
      "execution_count": null,
      "outputs": []
    },
    {
      "cell_type": "code",
      "source": [
        "# 訓練模型\n",
        "\n",
        "from sklearn.naive_bayes import MultinomialNB\n",
        "clf = MultinomialNB()  # 特徵是整數\n",
        "clf.fit(trainvec, traindf[\"作者\"])  # 某作者寫的詩之中，出現某個詞的次數"
      ],
      "metadata": {
        "colab": {
          "base_uri": "https://localhost:8080/"
        },
        "id": "tdCiYTb6Lu2N",
        "outputId": "db712be4-e9c1-42fb-970f-b6fa5670a63a"
      },
      "execution_count": 15,
      "outputs": [
        {
          "output_type": "execute_result",
          "data": {
            "text/plain": [
              "MultinomialNB()"
            ]
          },
          "metadata": {},
          "execution_count": 15
        }
      ]
    },
    {
      "cell_type": "code",
      "source": [
        "# 在預測用資料中，透過每首詩裡面的詞的出現次數，預測那首詩是哪位作者寫的\n",
        "\n",
        "pre = clf.predict(testvec)\n",
        "print(\"預測結果:\", list(pre))\n",
        "print(\"正確結果:\", list(testdf[\"作者\"]))\n",
        "\n",
        "from sklearn.metrics import accuracy_score\n",
        "print(\"正確率:\", accuracy_score(pre, testdf[\"作者\"]))"
      ],
      "metadata": {
        "colab": {
          "base_uri": "https://localhost:8080/"
        },
        "id": "7Vrve0PmTroU",
        "outputId": "3de8ff9c-94d1-466e-97b8-a7be249d2845"
      },
      "execution_count": 16,
      "outputs": [
        {
          "output_type": "stream",
          "name": "stdout",
          "text": [
            "預測結果: [0, 0, 0, 0, 0, 2, 0, 0, 0, 1, 1, 1, 1, 0, 1, 1, 1, 1, 1, 2, 0, 2, 2, 2, 2, 2, 2, 2, 2, 1]\n",
            "正確結果: [0, 0, 0, 0, 0, 0, 0, 0, 0, 0, 1, 1, 1, 1, 1, 1, 1, 1, 1, 1, 2, 2, 2, 2, 2, 2, 2, 2, 2, 2]\n",
            "正確率: 0.8\n"
          ]
        }
      ]
    },
    {
      "cell_type": "code",
      "source": [
        "# 輸入一首詩來測試\n",
        "s = input(\"請輸入一首詩: \")\n",
        "\n",
        "# 當要預測時，要將資料轉成list或series\n",
        "\n",
        "inputs = [poem(s)]  # 使用jieba分詞，並轉成list\n",
        "\n",
        "x = vec.transform(inputs)  # 轉換成 (第n首詩, 第m個詞的欄位編號) 及 出現次數\n",
        "\n",
        "rtrans = {0:\"李白\", 1:\"杜甫\", 2:\"白居易\"}\n",
        "pre = clf.predict(x)[0]\n",
        "print(f\"這首詩是「{rtrans[pre]}」寫的\")"
      ],
      "metadata": {
        "colab": {
          "base_uri": "https://localhost:8080/"
        },
        "id": "HFWoIGmHWjnR",
        "outputId": "8afdcbfa-18c2-49d2-889e-b16ff494a1f8"
      },
      "execution_count": 17,
      "outputs": [
        {
          "output_type": "stream",
          "name": "stdout",
          "text": [
            "請輸入一首詩: 天上何所有，迢迢白玉繩。 斜低建章闕，耿耿對金陵。 漢水舊如練，霜江夜清澄。 長川瀉落月，洲渚曉寒凝。 獨酌板橋浦，古人誰可徵。 玄暉難再得，灑酒氣填膺。\n",
            "這首詩是「李白」寫的\n"
          ]
        }
      ]
    }
  ]
}